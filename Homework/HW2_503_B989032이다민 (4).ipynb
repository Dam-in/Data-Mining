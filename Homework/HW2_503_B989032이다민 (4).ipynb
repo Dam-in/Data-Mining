{
 "cells": [
  {
   "cell_type": "code",
   "execution_count": 1,
   "id": "6928c7c5",
   "metadata": {},
   "outputs": [
    {
     "data": {
      "text/plain": [
       "10"
      ]
     },
     "execution_count": 1,
     "metadata": {},
     "output_type": "execute_result"
    }
   ],
   "source": [
    "# 슬라이드 #40~45 4가지 함수 용법 익히기\n",
    "import numpy as np\n",
    "\n",
    "#####1) op.reduce()\n",
    "''' op.reduce(a)는 1차원 배열의 모든 요소에 op를 적용함으로써 단일 값으로 감소시킨다. '''\n",
    "''' 다차원 배열의 경우, op.reduce(a, axis)는 지정된 축을 따라 a의 요소에 op를 적용한다. 그 배열은 차원 수가 a보다 1차원 작다. axis의 기본값은 0이다. '''\n",
    "a = np.array([1,2,3,4])\n",
    "np.add.reduce(a)"
   ]
  },
  {
   "cell_type": "code",
   "execution_count": 2,
   "id": "45acc934",
   "metadata": {},
   "outputs": [
    {
     "data": {
      "text/plain": [
       "'abcdef'"
      ]
     },
     "execution_count": 2,
     "metadata": {},
     "output_type": "execute_result"
    }
   ],
   "source": [
    "a = np.array(['ab', 'cd', 'ef'], dtype='object')\n",
    "np.add.reduce(a)"
   ]
  },
  {
   "cell_type": "code",
   "execution_count": 3,
   "id": "8a8f6f55",
   "metadata": {},
   "outputs": [
    {
     "data": {
      "text/plain": [
       "False"
      ]
     },
     "execution_count": 3,
     "metadata": {},
     "output_type": "execute_result"
    }
   ],
   "source": [
    "a = np.array([1,1,0,1,])\n",
    "np.logical_and.reduce(a)"
   ]
  },
  {
   "cell_type": "code",
   "execution_count": 4,
   "id": "f1c10afe",
   "metadata": {},
   "outputs": [
    {
     "data": {
      "text/plain": [
       "True"
      ]
     },
     "execution_count": 4,
     "metadata": {},
     "output_type": "execute_result"
    }
   ],
   "source": [
    "np.logical_or.reduce(a)"
   ]
  },
  {
   "cell_type": "code",
   "execution_count": 5,
   "id": "5f6a15f2",
   "metadata": {},
   "outputs": [
    {
     "data": {
      "text/plain": [
       "array([ 3, 33, 63, 93])"
      ]
     },
     "execution_count": 5,
     "metadata": {},
     "output_type": "execute_result"
    }
   ],
   "source": [
    "a = np.arange(3) + np.arange(0, 40, 10).reshape(-1, 1)\n",
    "np.add.reduce(a,1)"
   ]
  },
  {
   "cell_type": "code",
   "execution_count": 6,
   "id": "3bfe1fa2",
   "metadata": {},
   "outputs": [
    {
     "data": {
      "text/plain": [
       "array([60, 64, 68])"
      ]
     },
     "execution_count": 6,
     "metadata": {},
     "output_type": "execute_result"
    }
   ],
   "source": [
    "np.add.reduce(a)"
   ]
  },
  {
   "cell_type": "code",
   "execution_count": 7,
   "id": "fa79f53e",
   "metadata": {},
   "outputs": [
    {
     "data": {
      "text/plain": [
       "array([ 1,  3,  6, 10])"
      ]
     },
     "execution_count": 7,
     "metadata": {},
     "output_type": "execute_result"
    }
   ],
   "source": [
    "#####2) op.acumulate()\n",
    "''' op.accumulate(a)는 a의 각 요소에서 reduce 연산의 중간 결과를 포함하는 새 배열을 만든다. '''\n",
    "a = np.array([1,2,3,4])\n",
    "np.add.accumulate(a)"
   ]
  },
  {
   "cell_type": "code",
   "execution_count": 8,
   "id": "89286117",
   "metadata": {},
   "outputs": [
    {
     "data": {
      "text/plain": [
       "array(['ab', 'abcd', 'abcdef'], dtype=object)"
      ]
     },
     "execution_count": 8,
     "metadata": {},
     "output_type": "execute_result"
    }
   ],
   "source": [
    "a = np.array(['ab', 'cd', 'ef'], dtype='object')\n",
    "np.add.accumulate(a)"
   ]
  },
  {
   "cell_type": "code",
   "execution_count": 9,
   "id": "7c968a42",
   "metadata": {},
   "outputs": [
    {
     "data": {
      "text/plain": [
       "array([ True,  True, False])"
      ]
     },
     "execution_count": 9,
     "metadata": {},
     "output_type": "execute_result"
    }
   ],
   "source": [
    "a = np.array([1,1,0])\n",
    "np.logical_and.accumulate(a)"
   ]
  },
  {
   "cell_type": "code",
   "execution_count": 10,
   "id": "40d90126",
   "metadata": {},
   "outputs": [
    {
     "data": {
      "text/plain": [
       "array([ True,  True,  True])"
      ]
     },
     "execution_count": 10,
     "metadata": {},
     "output_type": "execute_result"
    }
   ],
   "source": [
    "np.logical_or.accumulate(a)"
   ]
  },
  {
   "cell_type": "code",
   "execution_count": 11,
   "id": "bdd8b7ea",
   "metadata": {},
   "outputs": [
    {
     "data": {
      "text/plain": [
       "array([[  11,  101, 1001],\n",
       "       [  12,  102, 1002],\n",
       "       [  13,  103, 1003],\n",
       "       [  14,  104, 1004]])"
      ]
     },
     "execution_count": 11,
     "metadata": {},
     "output_type": "execute_result"
    }
   ],
   "source": [
    "#####3) op.outer()\n",
    "''' op.outer(a, b)은 op를 사용하여 a와 b 사이의 가능한 모든 요소 조합을 형성한다. 결과적으로 배열의 모양은 a와 b의 모양을 연결한 결과이다.(순서가 중요) '''\n",
    "a = [1, 2, 3, 4]\n",
    "b = [10, 100, 1000]\n",
    "np.add.outer(a,b)"
   ]
  },
  {
   "cell_type": "code",
   "execution_count": 12,
   "id": "416cf435",
   "metadata": {},
   "outputs": [
    {
     "data": {
      "text/plain": [
       "array([[  11,   12,   13,   14],\n",
       "       [ 101,  102,  103,  104],\n",
       "       [1001, 1002, 1003, 1004]])"
      ]
     },
     "execution_count": 12,
     "metadata": {},
     "output_type": "execute_result"
    }
   ],
   "source": [
    "np.add.outer(b,a)"
   ]
  },
  {
   "cell_type": "code",
   "execution_count": 13,
   "id": "99e53ff0",
   "metadata": {},
   "outputs": [
    {
     "data": {
      "text/plain": [
       "array([60, 90])"
      ]
     },
     "execution_count": 13,
     "metadata": {},
     "output_type": "execute_result"
    }
   ],
   "source": [
    "#####4) op.reduceat()\n",
    "''' op.reduceat(a, 인덱스)는 인덱스의 값에 의해 정의된 1차원 배열의 범위에 op를 적용한다. 결과적으로 배열의 길이는 인덱스와 동일하다. '''\n",
    "''' 다차원 배열의 경우, reduceat()은 항상 마지막 축(2차원 배열의 행의 합)에 따라 적용된다. 이 값은 reduce()와 accumulate()의 기본값과 다르다. '''\n",
    "a = np.array([0,10,20,30,40,50])\n",
    "indices = np.array([1,4])\n",
    "np.add.reduceat(a, indices)"
   ]
  }
 ],
 "metadata": {
  "kernelspec": {
   "display_name": "Python 3",
   "language": "python",
   "name": "python3"
  },
  "language_info": {
   "codemirror_mode": {
    "name": "ipython",
    "version": 3
   },
   "file_extension": ".py",
   "mimetype": "text/x-python",
   "name": "python",
   "nbconvert_exporter": "python",
   "pygments_lexer": "ipython3",
   "version": "3.8.8"
  }
 },
 "nbformat": 4,
 "nbformat_minor": 5
}
